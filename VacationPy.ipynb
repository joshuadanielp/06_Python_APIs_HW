{
 "cells": [
  {
   "cell_type": "markdown",
   "metadata": {},
   "source": [
    "# VacationPy\n",
    "----\n",
    "\n",
    "#### Note\n",
    "* Instructions have been included for each segment. You do not have to follow them exactly, but they are included to help you think through the steps."
   ]
  },
  {
   "cell_type": "code",
   "execution_count": 1,
   "metadata": {},
   "outputs": [],
   "source": [
    "# Dependencies and Setup\n",
    "import matplotlib.pyplot as plt\n",
    "import pandas as pd\n",
    "import numpy as np\n",
    "import requests\n",
    "import gmaps\n",
    "import os\n",
    "\n",
    "# Import API key\n",
    "from api_keys import g_key"
   ]
  },
  {
   "cell_type": "markdown",
   "metadata": {},
   "source": [
    "### Store Part I results into DataFrame\n",
    "* Load the csv exported in Part I to a DataFrame"
   ]
  },
  {
   "cell_type": "code",
   "execution_count": 2,
   "metadata": {},
   "outputs": [
    {
     "data": {
      "text/html": [
       "<div>\n",
       "<style scoped>\n",
       "    .dataframe tbody tr th:only-of-type {\n",
       "        vertical-align: middle;\n",
       "    }\n",
       "\n",
       "    .dataframe tbody tr th {\n",
       "        vertical-align: top;\n",
       "    }\n",
       "\n",
       "    .dataframe thead th {\n",
       "        text-align: right;\n",
       "    }\n",
       "</style>\n",
       "<table border=\"1\" class=\"dataframe\">\n",
       "  <thead>\n",
       "    <tr style=\"text-align: right;\">\n",
       "      <th></th>\n",
       "      <th>City</th>\n",
       "      <th>Lat</th>\n",
       "      <th>Lng</th>\n",
       "      <th>Max Temp</th>\n",
       "      <th>Humidity</th>\n",
       "      <th>Cloudiness</th>\n",
       "      <th>Wind Speed</th>\n",
       "      <th>Country</th>\n",
       "      <th>Date</th>\n",
       "    </tr>\n",
       "  </thead>\n",
       "  <tbody>\n",
       "    <tr>\n",
       "      <td>0</td>\n",
       "      <td>shimoda</td>\n",
       "      <td>34.67</td>\n",
       "      <td>138.95</td>\n",
       "      <td>286.15</td>\n",
       "      <td>66</td>\n",
       "      <td>75</td>\n",
       "      <td>6.20</td>\n",
       "      <td>JP</td>\n",
       "      <td>1587087051</td>\n",
       "    </tr>\n",
       "    <tr>\n",
       "      <td>1</td>\n",
       "      <td>teya</td>\n",
       "      <td>60.38</td>\n",
       "      <td>92.63</td>\n",
       "      <td>277.90</td>\n",
       "      <td>67</td>\n",
       "      <td>73</td>\n",
       "      <td>0.40</td>\n",
       "      <td>RU</td>\n",
       "      <td>1587087052</td>\n",
       "    </tr>\n",
       "    <tr>\n",
       "      <td>2</td>\n",
       "      <td>menongue</td>\n",
       "      <td>-14.66</td>\n",
       "      <td>17.69</td>\n",
       "      <td>289.25</td>\n",
       "      <td>56</td>\n",
       "      <td>13</td>\n",
       "      <td>0.71</td>\n",
       "      <td>AO</td>\n",
       "      <td>1587087052</td>\n",
       "    </tr>\n",
       "    <tr>\n",
       "      <td>3</td>\n",
       "      <td>nikolskoye</td>\n",
       "      <td>59.70</td>\n",
       "      <td>30.79</td>\n",
       "      <td>275.15</td>\n",
       "      <td>74</td>\n",
       "      <td>75</td>\n",
       "      <td>6.00</td>\n",
       "      <td>RU</td>\n",
       "      <td>1587087052</td>\n",
       "    </tr>\n",
       "    <tr>\n",
       "      <td>4</td>\n",
       "      <td>carnarvon</td>\n",
       "      <td>-24.87</td>\n",
       "      <td>113.63</td>\n",
       "      <td>304.15</td>\n",
       "      <td>35</td>\n",
       "      <td>61</td>\n",
       "      <td>4.60</td>\n",
       "      <td>AU</td>\n",
       "      <td>1587086981</td>\n",
       "    </tr>\n",
       "  </tbody>\n",
       "</table>\n",
       "</div>"
      ],
      "text/plain": [
       "         City    Lat     Lng  Max Temp  Humidity  Cloudiness  Wind Speed  \\\n",
       "0     shimoda  34.67  138.95    286.15        66          75        6.20   \n",
       "1        teya  60.38   92.63    277.90        67          73        0.40   \n",
       "2    menongue -14.66   17.69    289.25        56          13        0.71   \n",
       "3  nikolskoye  59.70   30.79    275.15        74          75        6.00   \n",
       "4   carnarvon -24.87  113.63    304.15        35          61        4.60   \n",
       "\n",
       "  Country        Date  \n",
       "0      JP  1587087051  \n",
       "1      RU  1587087052  \n",
       "2      AO  1587087052  \n",
       "3      RU  1587087052  \n",
       "4      AU  1587086981  "
      ]
     },
     "execution_count": 2,
     "metadata": {},
     "output_type": "execute_result"
    }
   ],
   "source": [
    "vacation_df = pd.read_csv(\"output_data/weather_data.csv\")\n",
    "vacation_df.head()"
   ]
  },
  {
   "cell_type": "markdown",
   "metadata": {},
   "source": [
    "### Humidity Heatmap\n",
    "* Configure gmaps.\n",
    "* Use the Lat and Lng as locations and Humidity as the weight.\n",
    "* Add Heatmap layer to map."
   ]
  },
  {
   "cell_type": "code",
   "execution_count": 3,
   "metadata": {},
   "outputs": [],
   "source": [
    "# Store latitude and longitude in locations\n",
    "locations = vacation_df[[\"Lat\", \"Lng\"]]\n",
    "rating = vacation_df[\"Humidity\"].astype(float)"
   ]
  },
  {
   "cell_type": "code",
   "execution_count": 7,
   "metadata": {},
   "outputs": [
    {
     "data": {
      "application/vnd.jupyter.widget-view+json": {
       "model_id": "93d549781de848d386f0ae6646e407ac",
       "version_major": 2,
       "version_minor": 0
      },
      "text/plain": [
       "Figure(layout=FigureLayout(height='420px'))"
      ]
     },
     "metadata": {},
     "output_type": "display_data"
    }
   ],
   "source": [
    "# Plot Heatmap\n",
    "fig = gmaps.figure()\n",
    "\n",
    "# Create heat layer\n",
    "heat_layer = gmaps.heatmap_layer(locations, weights=rating, \n",
    "                                 dissipating=False, max_intensity=100,\n",
    "                                 point_radius=3)\n",
    "\n",
    "# Add layer\n",
    "fig.add_layer(heat_layer)\n",
    "\n",
    "# Adjust the zoom level\n",
    "\n",
    "\n",
    "# Display figure\n",
    "fig"
   ]
  },
  {
   "cell_type": "markdown",
   "metadata": {},
   "source": [
    "### Create new DataFrame fitting weather criteria\n",
    "* Narrow down the cities to fit weather conditions.\n",
    "* Drop any rows will null values."
   ]
  },
  {
   "cell_type": "code",
   "execution_count": 9,
   "metadata": {},
   "outputs": [
    {
     "data": {
      "text/plain": [
       "<bound method DataFrame.dropna of                City    Lat     Lng  Max Temp  Humidity  Cloudiness  \\\n",
       "39        springbok -29.66   17.89    282.90        39           0   \n",
       "50           castro -24.79  -50.01    283.11        40           0   \n",
       "105     boshnyakovo  49.63  142.17    276.71        69           0   \n",
       "124          shetpe  44.17   52.12    279.80        64           0   \n",
       "158           bayir  37.27   28.22    282.15        87           0   \n",
       "222  barbosa ferraz -24.03  -52.01    284.90        63           0   \n",
       "249         margate  51.38    1.39    283.15        87           0   \n",
       "326         okhotsk  59.38  143.30    269.83        84           0   \n",
       "344            umea  63.83   20.26    273.71        88           0   \n",
       "354      norrkoping  58.59   16.18    277.15        48           0   \n",
       "356        nykoping  58.75   17.01    277.15        55           0   \n",
       "364     krasnyy yar  46.53   48.35    280.15        61           0   \n",
       "387  lagoa vermelha -28.21  -51.53    280.47        71           0   \n",
       "421      troitskoye  52.98   84.68    282.83        64           0   \n",
       "434       apucarana -23.55  -51.46    283.92        51           0   \n",
       "444     san vicente -26.62  -54.13    282.26        64           0   \n",
       "460           samur  41.83   48.49    281.35        76           0   \n",
       "482         shahrud  36.42   54.98    284.26        34           0   \n",
       "483         erenhot  43.65  111.98    284.09        28           0   \n",
       "\n",
       "     Wind Speed Country        Date  \n",
       "39         2.42      ZA  1587087062  \n",
       "50         0.94      BR  1587087064  \n",
       "105        4.33      RU  1587087076  \n",
       "124        2.67      KZ  1587087080  \n",
       "158        2.10      TR  1587087088  \n",
       "222        1.42      BR  1587087106  \n",
       "249        5.10      GB  1587087113  \n",
       "326        4.26      RU  1587087132  \n",
       "344        5.10      SE  1587087137  \n",
       "354        5.10      SE  1587087139  \n",
       "356        4.60      SE  1587087140  \n",
       "364        5.00      RU  1587087141  \n",
       "387        1.07      BR  1587087146  \n",
       "421        0.86      RU  1587087159  \n",
       "434        1.55      BR  1587087164  \n",
       "444        1.31      AR  1587087172  \n",
       "460        3.22      RU  1587087178  \n",
       "482        1.97      IR  1587087185  \n",
       "483        1.55      CN  1587087186  >"
      ]
     },
     "execution_count": 9,
     "metadata": {},
     "output_type": "execute_result"
    }
   ],
   "source": [
    "# Use loc with condition\n",
    "criteria_df = vacation_df.loc[(vacation_df['Max Temp'] < 285)]\n",
    "criteria_df = criteria_df.loc[(criteria_df['Max Temp'] > 265)]\n",
    "criteria_df = criteria_df.loc[(criteria_df['Wind Speed'] < 10)]\n",
    "criteria_df = criteria_df.loc[(criteria_df['Cloudiness'] == 0)]\n",
    "criteria_df = criteria_df.dropna\n",
    "criteria_df"
   ]
  },
  {
   "cell_type": "markdown",
   "metadata": {},
   "source": [
    "### Hotel Map\n",
    "* Store into variable named `hotel_df`.\n",
    "* Add a \"Hotel Name\" column to the DataFrame.\n",
    "* Set parameters to search for hotels with 5000 meters.\n",
    "* Hit the Google Places API for each city's coordinates.\n",
    "* Store the first Hotel result into the DataFrame.\n",
    "* Plot markers on top of the heatmap."
   ]
  },
  {
   "cell_type": "code",
   "execution_count": null,
   "metadata": {},
   "outputs": [],
   "source": []
  },
  {
   "cell_type": "code",
   "execution_count": null,
   "metadata": {},
   "outputs": [],
   "source": []
  },
  {
   "cell_type": "code",
   "execution_count": null,
   "metadata": {},
   "outputs": [],
   "source": [
    "# NOTE: Do not change any of the code in this cell\n",
    "\n",
    "# Using the template add the hotel marks to the heatmap\n",
    "info_box_template = \"\"\"\n",
    "<dl>\n",
    "<dt>Name</dt><dd>{Hotel Name}</dd>\n",
    "<dt>City</dt><dd>{City}</dd>\n",
    "<dt>Country</dt><dd>{Country}</dd>\n",
    "</dl>\n",
    "\"\"\"\n",
    "# Store the DataFrame Row\n",
    "# NOTE: be sure to update with your DataFrame name\n",
    "hotel_info = [info_box_template.format(**row) for index, row in hotel_df.iterrows()]\n",
    "locations = hotel_df[[\"Lat\", \"Lng\"]]"
   ]
  },
  {
   "cell_type": "code",
   "execution_count": null,
   "metadata": {},
   "outputs": [],
   "source": [
    "# Add marker layer ontop of heat map\n",
    "\n",
    "\n",
    "# Display figure\n"
   ]
  },
  {
   "cell_type": "code",
   "execution_count": null,
   "metadata": {},
   "outputs": [],
   "source": []
  }
 ],
 "metadata": {
  "kernelspec": {
   "display_name": "Python 3",
   "language": "python",
   "name": "python3"
  },
  "language_info": {
   "codemirror_mode": {
    "name": "ipython",
    "version": 3
   },
   "file_extension": ".py",
   "mimetype": "text/x-python",
   "name": "python",
   "nbconvert_exporter": "python",
   "pygments_lexer": "ipython3",
   "version": "3.7.4"
  },
  "latex_envs": {
   "LaTeX_envs_menu_present": true,
   "autoclose": false,
   "autocomplete": true,
   "bibliofile": "biblio.bib",
   "cite_by": "apalike",
   "current_citInitial": 1,
   "eqLabelWithNumbers": true,
   "eqNumInitial": 1,
   "hotkeys": {
    "equation": "Ctrl-E",
    "itemize": "Ctrl-I"
   },
   "labels_anchors": false,
   "latex_user_defs": false,
   "report_style_numbering": false,
   "user_envs_cfg": false
  }
 },
 "nbformat": 4,
 "nbformat_minor": 2
}
